{
 "cells": [
  {
   "cell_type": "code",
   "execution_count": 2,
   "id": "f7c60da8",
   "metadata": {},
   "outputs": [
    {
     "name": "stdout",
     "output_type": "stream",
     "text": [
      "A     B     C     A∨C     B∨¬C    KB      α (A∨B) \n",
      "False False False False   True    False   False   \n",
      "False False True  True    False   False   False   \n",
      "False True  False False   True    False   True    \n",
      "False True  True  True    True    True    True    \n",
      "True  False False True    True    True    True    \n",
      "True  False True  True    False   False   True    \n",
      "True  True  False True    True    True    True    \n",
      "True  True  True  True    True    True    True    \n",
      "\n",
      "Result:\n",
      "KB entails the query (α).\n"
     ]
    }
   ],
   "source": [
    "import itertools\n",
    "symbols = ['A', 'B', 'C']\n",
    "A_or_C = lambda A, B, C: A or C\n",
    "B_or_not_C = lambda A, B, C: B or not C\n",
    "KB = lambda A, B, C: A_or_C(A, B, C) and B_or_not_C(A, B, C)\n",
    "query = lambda A, B, C: A or B\n",
    "def print_truth_table(symbols, A_or_C, B_or_not_C, KB, query):\n",
    "    print(f\"{'A':<6}{'B':<6}{'C':<6}{'A∨C':<8}{'B∨¬C':<8}{'KB':<8}{'α (A∨B)':<8}\")\n",
    "    for values in itertools.product([False, True], repeat=len(symbols)):\n",
    "        assignment = dict(zip(symbols, values))\n",
    "        A_val = assignment['A']\n",
    "        B_val = assignment['B']\n",
    "        C_val = assignment['C']\n",
    "        A_or_C_val = A_or_C(A_val, B_val, C_val)\n",
    "        B_or_not_C_val = B_or_not_C(A_val, B_val, C_val)\n",
    "        KB_val = KB(A_val, B_val, C_val)\n",
    "        query_val = query(A_val, B_val, C_val)\n",
    "        print(f\"{str(A_val):<6}{str(B_val):<6}{str(C_val):<6}\"\n",
    "              f\"{str(A_or_C_val):<8}{str(B_or_not_C_val):<8}\"\n",
    "              f\"{str(KB_val):<8}{str(query_val):<8}\")\n",
    "    entails = all(KB(**dict(zip(symbols, values))) <= query(**dict(zip(symbols, values)))\n",
    "                  for values in itertools.product([False, True], repeat=len(symbols)))\n",
    "    print(\"\\nResult:\")\n",
    "    if entails:\n",
    "        print(\"KB entails the query (α).\")\n",
    "    else:\n",
    "        print(\"KB does not entail the query (α).\")\n",
    "print_truth_table(symbols, A_or_C, B_or_not_C, KB, query)"
   ]
  },
  {
   "cell_type": "code",
   "execution_count": null,
   "id": "714c2aaf",
   "metadata": {},
   "outputs": [],
   "source": []
  }
 ],
 "metadata": {
  "kernelspec": {
   "display_name": "Python 3 (ipykernel)",
   "language": "python",
   "name": "python3"
  },
  "language_info": {
   "codemirror_mode": {
    "name": "ipython",
    "version": 3
   },
   "file_extension": ".py",
   "mimetype": "text/x-python",
   "name": "python",
   "nbconvert_exporter": "python",
   "pygments_lexer": "ipython3",
   "version": "3.9.13"
  }
 },
 "nbformat": 4,
 "nbformat_minor": 5
}
